{
 "cells": [
  {
   "cell_type": "code",
   "execution_count": 1,
   "metadata": {},
   "outputs": [],
   "source": [
    "import nibabel as nib\n",
    "import numpy as np\n",
    "import matplotlib.pyplot as plt\n",
    "import os\n",
    "import surfdist as sd\n",
    "from surfdist import load, analysis, viz, utils\n",
    "import scipy.spatial\n"
   ]
  },
  {
   "cell_type": "code",
   "execution_count": 2,
   "metadata": {},
   "outputs": [
    {
     "name": "stdout",
     "output_type": "stream",
     "text": [
      "Warning: cortex is not used to load the freesurfer label\n"
     ]
    }
   ],
   "source": [
    "cmap='coolwarm'\n",
    "base_dir = '/Users/medaglialab/Desktop/geodesic_distance/'\n",
    "surf = nib.freesurfer.read_geometry(os.path.join(base_dir, 'Freesurfer_subjects/DP5.SC.1.001/surf/lh.pial'))\n",
    "cort = np.sort(nib.freesurfer.read_label(os.path.join(base_dir, 'Freesurfer_subjects/DP5.SC.1.001/label/lh.cortex.label')))\n",
    "sulc=nib.freesurfer.read_morph_data(os.path.join(base_dir, 'Freesurfer_subjects/DP5.SC.1.001/surf/lh.sulc'))\n",
    "src  = sd.load.load_freesurfer_label(os.path.join(base_dir, 'TNI009_DP5001/lh_parc_result.annot'), '17Networks_14', cort)"
   ]
  },
  {
   "cell_type": "code",
   "execution_count": 3,
   "metadata": {},
   "outputs": [
    {
     "name": "stderr",
     "output_type": "stream",
     "text": [
      "/Users/medaglialab/Documents/GitHub/surfdist/surfdist/utils.py:4: NumbaWarning: \u001b[1m\n",
      "Compilation is falling back to object mode WITH looplifting enabled because Function \"surf_keep_cortex\" failed type inference due to: \u001b[1m\u001b[1mnon-precise type pyobject\u001b[0m\n",
      "\u001b[0m\u001b[1m[1] During: typing of argument at /Users/medaglialab/Documents/GitHub/surfdist/surfdist/utils.py (20)\u001b[0m\n",
      "\u001b[1m\n",
      "File \"surfdist/utils.py\", line 20:\u001b[0m\n",
      "\u001b[1mdef surf_keep_cortex(surf, cortex):\n",
      "    <source elided>\n",
      "    # split surface into vertices and triangles\n",
      "\u001b[1m    vertices, triangles = surf\n",
      "\u001b[0m    \u001b[1m^\u001b[0m\u001b[0m\n",
      "\u001b[0m\n",
      "  @numba.jit(parallel=True)\n",
      "/opt/anaconda3/lib/python3.7/site-packages/numba/compiler.py:742: NumbaWarning: \u001b[1mFunction \"surf_keep_cortex\" was compiled in object mode without forceobj=True.\n",
      "\u001b[1m\n",
      "File \"surfdist/utils.py\", line 5:\u001b[0m\n",
      "\u001b[1m@numba.jit(parallel=True)\n",
      "\u001b[1mdef surf_keep_cortex(surf, cortex):\n",
      "\u001b[0m\u001b[1m^\u001b[0m\u001b[0m\n",
      "\u001b[0m\n",
      "  self.func_ir.loc))\n",
      "/opt/anaconda3/lib/python3.7/site-packages/numba/compiler.py:751: NumbaDeprecationWarning: \u001b[1m\n",
      "Fall-back from the nopython compilation path to the object mode compilation path has been detected, this is deprecated behaviour.\n",
      "\n",
      "For more information visit http://numba.pydata.org/numba-doc/latest/reference/deprecation.html#deprecation-of-object-mode-fall-back-behaviour-when-using-jit\n",
      "\u001b[1m\n",
      "File \"surfdist/utils.py\", line 5:\u001b[0m\n",
      "\u001b[1m@numba.jit(parallel=True)\n",
      "\u001b[1mdef surf_keep_cortex(surf, cortex):\n",
      "\u001b[0m\u001b[1m^\u001b[0m\u001b[0m\n",
      "\u001b[0m\n",
      "  warnings.warn(errors.NumbaDeprecationWarning(msg, self.func_ir.loc))\n",
      "/Users/medaglialab/Documents/GitHub/surfdist/surfdist/utils.py:30: NumbaWarning: \u001b[1m\n",
      "Compilation is falling back to object mode WITH looplifting enabled because Function \"triangles_keep_cortex\" failed type inference due to: \u001b[1m\u001b[1mnon-precise type pyobject\u001b[0m\n",
      "\u001b[0m\u001b[1m[1] During: typing of argument at /Users/medaglialab/Documents/GitHub/surfdist/surfdist/utils.py (37)\u001b[0m\n",
      "\u001b[1m\n",
      "File \"surfdist/utils.py\", line 37:\u001b[0m\n",
      "\u001b[1mdef triangles_keep_cortex(triangles, cortex):\n",
      "    <source elided>\n",
      "    # for or each face/triangle keep only those that only contain nodes within the list of cortex nodes\n",
      "\u001b[1m    input_shape = triangles.shape\n",
      "\u001b[0m    \u001b[1m^\u001b[0m\u001b[0m\n",
      "\u001b[0m\n",
      "  @numba.jit(parallel=True)\n",
      "/opt/anaconda3/lib/python3.7/site-packages/numba/compiler.py:742: NumbaWarning: \u001b[1mFunction \"triangles_keep_cortex\" was compiled in object mode without forceobj=True.\n",
      "\u001b[1m\n",
      "File \"surfdist/utils.py\", line 31:\u001b[0m\n",
      "\u001b[1m@numba.jit(parallel=True)\n",
      "\u001b[1mdef triangles_keep_cortex(triangles, cortex):\n",
      "\u001b[0m\u001b[1m^\u001b[0m\u001b[0m\n",
      "\u001b[0m\n",
      "  self.func_ir.loc))\n",
      "/opt/anaconda3/lib/python3.7/site-packages/numba/compiler.py:751: NumbaDeprecationWarning: \u001b[1m\n",
      "Fall-back from the nopython compilation path to the object mode compilation path has been detected, this is deprecated behaviour.\n",
      "\n",
      "For more information visit http://numba.pydata.org/numba-doc/latest/reference/deprecation.html#deprecation-of-object-mode-fall-back-behaviour-when-using-jit\n",
      "\u001b[1m\n",
      "File \"surfdist/utils.py\", line 31:\u001b[0m\n",
      "\u001b[1m@numba.jit(parallel=True)\n",
      "\u001b[1mdef triangles_keep_cortex(triangles, cortex):\n",
      "\u001b[0m\u001b[1m^\u001b[0m\u001b[0m\n",
      "\u001b[0m\n",
      "  warnings.warn(errors.NumbaDeprecationWarning(msg, self.func_ir.loc))\n",
      "/Users/medaglialab/Documents/GitHub/surfdist/surfdist/utils.py:48: NumbaWarning: \u001b[1m\n",
      "Compilation is falling back to object mode WITH looplifting enabled because Function \"translate_src\" failed type inference due to: \u001b[1m\u001b[1mUse of unsupported NumPy function 'numpy.in1d' or unsupported use of the function.\n",
      "\u001b[1m\n",
      "File \"surfdist/utils.py\", line 53:\u001b[0m\n",
      "\u001b[1mdef translate_src(src, cortex):\n",
      "    <source elided>\n",
      "    \"\"\"\n",
      "\u001b[1m    src_new = np.array(np.where(np.in1d(cortex, src))[0], dtype=np.int32)\n",
      "\u001b[0m    \u001b[1m^\u001b[0m\u001b[0m\n",
      "\u001b[0m\n",
      "\u001b[0m\u001b[1m[1] During: typing of get attribute at /Users/medaglialab/Documents/GitHub/surfdist/surfdist/utils.py (53)\u001b[0m\n",
      "\u001b[1m\n",
      "File \"surfdist/utils.py\", line 53:\u001b[0m\n",
      "\u001b[1mdef translate_src(src, cortex):\n",
      "    <source elided>\n",
      "    \"\"\"\n",
      "\u001b[1m    src_new = np.array(np.where(np.in1d(cortex, src))[0], dtype=np.int32)\n",
      "\u001b[0m    \u001b[1m^\u001b[0m\u001b[0m\n",
      "\u001b[0m\n",
      "  @numba.jit(parallel=True)\n",
      "/opt/anaconda3/lib/python3.7/site-packages/numba/compiler.py:742: NumbaWarning: \u001b[1mFunction \"translate_src\" was compiled in object mode without forceobj=True.\n",
      "\u001b[1m\n",
      "File \"surfdist/utils.py\", line 49:\u001b[0m\n",
      "\u001b[1m@numba.jit(parallel=True)\n",
      "\u001b[1mdef translate_src(src, cortex):\n",
      "\u001b[0m\u001b[1m^\u001b[0m\u001b[0m\n",
      "\u001b[0m\n",
      "  self.func_ir.loc))\n",
      "/opt/anaconda3/lib/python3.7/site-packages/numba/compiler.py:751: NumbaDeprecationWarning: \u001b[1m\n",
      "Fall-back from the nopython compilation path to the object mode compilation path has been detected, this is deprecated behaviour.\n",
      "\n",
      "For more information visit http://numba.pydata.org/numba-doc/latest/reference/deprecation.html#deprecation-of-object-mode-fall-back-behaviour-when-using-jit\n",
      "\u001b[1m\n",
      "File \"surfdist/utils.py\", line 49:\u001b[0m\n",
      "\u001b[1m@numba.jit(parallel=True)\n",
      "\u001b[1mdef translate_src(src, cortex):\n",
      "\u001b[0m\u001b[1m^\u001b[0m\u001b[0m\n",
      "\u001b[0m\n",
      "  warnings.warn(errors.NumbaDeprecationWarning(msg, self.func_ir.loc))\n"
     ]
    }
   ],
   "source": [
    "dist = sd.analysis.dist_calc(surf, cort, src)"
   ]
  },
  {
   "cell_type": "code",
   "execution_count": 4,
   "metadata": {},
   "outputs": [
    {
     "data": {
      "text/plain": [
       "array([52.17030005, 51.70970928, 52.65622176, ..., 39.55994705,\n",
       "       40.10551362, 42.28295865])"
      ]
     },
     "execution_count": 4,
     "metadata": {},
     "output_type": "execute_result"
    }
   ],
   "source": [
    "dist"
   ]
  },
  {
   "cell_type": "code",
   "execution_count": 5,
   "metadata": {},
   "outputs": [
    {
     "data": {
      "text/plain": [
       "(array([2.0947e+04, 1.0886e+04, 7.0620e+03, 5.7910e+03, 4.9130e+03,\n",
       "        4.2910e+03, 3.9630e+03, 3.6710e+03, 3.6150e+03, 3.4620e+03,\n",
       "        3.3700e+03, 3.2300e+03, 3.1510e+03, 3.1540e+03, 3.1490e+03,\n",
       "        3.1010e+03, 2.9710e+03, 2.7610e+03, 2.5660e+03, 2.4570e+03,\n",
       "        2.2960e+03, 2.1710e+03, 2.0370e+03, 1.9070e+03, 1.8170e+03,\n",
       "        1.7560e+03, 1.7100e+03, 1.7510e+03, 1.6420e+03, 1.6270e+03,\n",
       "        1.6470e+03, 1.5990e+03, 1.5060e+03, 1.4330e+03, 1.4290e+03,\n",
       "        1.4440e+03, 1.3670e+03, 1.3460e+03, 1.3250e+03, 1.2560e+03,\n",
       "        1.1840e+03, 1.1370e+03, 1.0650e+03, 1.0580e+03, 1.0180e+03,\n",
       "        1.0040e+03, 9.7500e+02, 8.5400e+02, 8.2800e+02, 8.1400e+02,\n",
       "        8.0200e+02, 8.0100e+02, 8.1500e+02, 7.9700e+02, 7.9700e+02,\n",
       "        7.7900e+02, 7.6400e+02, 6.7800e+02, 6.8000e+02, 6.2600e+02,\n",
       "        6.2200e+02, 6.2900e+02, 6.0900e+02, 6.1400e+02, 6.1000e+02,\n",
       "        5.6100e+02, 5.3300e+02, 5.1000e+02, 5.0500e+02, 5.0500e+02,\n",
       "        5.0500e+02, 4.7300e+02, 4.6000e+02, 4.2400e+02, 4.3700e+02,\n",
       "        4.0800e+02, 3.9800e+02, 4.1600e+02, 4.2500e+02, 3.7400e+02,\n",
       "        3.7700e+02, 3.5000e+02, 3.5800e+02, 3.2400e+02, 3.0400e+02,\n",
       "        2.6400e+02, 2.3000e+02, 1.9300e+02, 1.5400e+02, 1.2700e+02,\n",
       "        1.2800e+02, 1.3000e+02, 1.1000e+02, 1.1200e+02, 1.0700e+02,\n",
       "        1.0200e+02, 7.1000e+01, 5.0000e+01, 2.4000e+01, 7.0000e+00]),\n",
       " array([ 0.        ,  0.84733202,  1.69466403,  2.54199605,  3.38932807,\n",
       "         4.23666009,  5.0839921 ,  5.93132412,  6.77865614,  7.62598815,\n",
       "         8.47332017,  9.32065219, 10.1679842 , 11.01531622, 11.86264824,\n",
       "        12.70998026, 13.55731227, 14.40464429, 15.25197631, 16.09930832,\n",
       "        16.94664034, 17.79397236, 18.64130437, 19.48863639, 20.33596841,\n",
       "        21.18330043, 22.03063244, 22.87796446, 23.72529648, 24.57262849,\n",
       "        25.41996051, 26.26729253, 27.11462454, 27.96195656, 28.80928858,\n",
       "        29.6566206 , 30.50395261, 31.35128463, 32.19861665, 33.04594866,\n",
       "        33.89328068, 34.7406127 , 35.58794471, 36.43527673, 37.28260875,\n",
       "        38.12994077, 38.97727278, 39.8246048 , 40.67193682, 41.51926883,\n",
       "        42.36660085, 43.21393287, 44.06126488, 44.9085969 , 45.75592892,\n",
       "        46.60326094, 47.45059295, 48.29792497, 49.14525699, 49.992589  ,\n",
       "        50.83992102, 51.68725304, 52.53458505, 53.38191707, 54.22924909,\n",
       "        55.07658111, 55.92391312, 56.77124514, 57.61857716, 58.46590917,\n",
       "        59.31324119, 60.16057321, 61.00790522, 61.85523724, 62.70256926,\n",
       "        63.54990128, 64.39723329, 65.24456531, 66.09189733, 66.93922934,\n",
       "        67.78656136, 68.63389338, 69.48122539, 70.32855741, 71.17588943,\n",
       "        72.02322145, 72.87055346, 73.71788548, 74.5652175 , 75.41254951,\n",
       "        76.25988153, 77.10721355, 77.95454556, 78.80187758, 79.6492096 ,\n",
       "        80.49654162, 81.34387363, 82.19120565, 83.03853767, 83.88586968,\n",
       "        84.7332017 ]),\n",
       " <a list of 100 Patch objects>)"
      ]
     },
     "execution_count": 5,
     "metadata": {},
     "output_type": "execute_result"
    },
    {
     "data": {
      "image/png": "[encoded data removed]",
      "text/plain": [
       "<Figure size 432x288 with 1 Axes>"
      ]
     },
     "metadata": {
      "needs_background": "light"
     },
     "output_type": "display_data"
    }
   ],
   "source": [
    "plt.hist(dist, bins=100)"
   ]
  },
  {
   "cell_type": "code",
   "execution_count": null,
   "metadata": {},
   "outputs": [],
   "source": []
  }
 ],
 "metadata": {
  "kernelspec": {
   "display_name": "Python 3",
   "language": "python",
   "name": "python3"
  },
  "language_info": {
   "codemirror_mode": {
    "name": "ipython",
    "version": 3
   },
   "file_extension": ".py",
   "mimetype": "text/x-python",
   "name": "python",
   "nbconvert_exporter": "python",
   "pygments_lexer": "ipython3",
   "version": "3.7.4"
  }
 },
 "nbformat": 4,
 "nbformat_minor": 2
}

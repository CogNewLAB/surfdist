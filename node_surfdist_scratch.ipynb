{
 "cells": [
  {
   "cell_type": "code",
   "execution_count": 1,
   "metadata": {},
   "outputs": [],
   "source": [
    "import nibabel as nib\n",
    "import numpy as np\n",
    "import matplotlib.pyplot as plt\n",
    "import os\n",
    "import surfdist as sd\n",
    "from surfdist import load, analysis, viz, utils\n",
    "import scipy.spatial\n"
   ]
  },
  {
   "cell_type": "code",
   "execution_count": 2,
   "metadata": {},
   "outputs": [],
   "source": [
    "cmap='coolwarm'\n",
    "# create the base directory\n",
    "base_dir = '/Users/medaglialab/Desktop/geodesic_distance/' \n",
    "# read in the FS geometry file\n",
    "surf = nib.freesurfer.read_geometry(os.path.join(base_dir, 'Freesurfer_subjects/DP5.SC.1.001/surf/lh.pial'))\n",
    "# load the cortical label\n",
    "cort = np.sort(nib.freesurfer.read_label(os.path.join(base_dir, 'Freesurfer_subjects/DP5.SC.1.001/label/lh.cortex.label')))\n",
    "# load the morphometry data\n",
    "sulc=nib.freesurfer.read_morph_data(os.path.join(base_dir, 'Freesurfer_subjects/DP5.SC.1.001/surf/lh.sulc'))\n",
    "# load the source nodes\n",
    "source_nodes  = sd.load.load_freesurfer_label(os.path.join(base_dir, 'TNI009_DP5001/lh_parc_result.annot'), '17Networks_14')"
   ]
  },
  {
   "cell_type": "code",
   "execution_count": 3,
   "metadata": {},
   "outputs": [
    {
     "name": "stderr",
     "output_type": "stream",
     "text": [
      "/Users/medaglialab/Documents/GitHub/surfdist/surfdist/utils.py:4: NumbaWarning: \u001b[1m\n",
      "Compilation is falling back to object mode WITH looplifting enabled because Function \"surf_keep_cortex\" failed type inference due to: \u001b[1m\u001b[1mnon-precise type pyobject\u001b[0m\n",
      "\u001b[0m\u001b[1m[1] During: typing of argument at /Users/medaglialab/Documents/GitHub/surfdist/surfdist/utils.py (20)\u001b[0m\n",
      "\u001b[1m\n",
      "File \"surfdist/utils.py\", line 20:\u001b[0m\n",
      "\u001b[1mdef surf_keep_cortex(surf, cortex):\n",
      "    <source elided>\n",
      "    # split surface into vertices and triangles\n",
      "\u001b[1m    vertices, triangles = surf\n",
      "\u001b[0m    \u001b[1m^\u001b[0m\u001b[0m\n",
      "\u001b[0m\n",
      "  @numba.jit(parallel=True)\n",
      "/opt/anaconda3/lib/python3.7/site-packages/numba/compiler.py:742: NumbaWarning: \u001b[1mFunction \"surf_keep_cortex\" was compiled in object mode without forceobj=True.\n",
      "\u001b[1m\n",
      "File \"surfdist/utils.py\", line 5:\u001b[0m\n",
      "\u001b[1m@numba.jit(parallel=True)\n",
      "\u001b[1mdef surf_keep_cortex(surf, cortex):\n",
      "\u001b[0m\u001b[1m^\u001b[0m\u001b[0m\n",
      "\u001b[0m\n",
      "  self.func_ir.loc))\n",
      "/opt/anaconda3/lib/python3.7/site-packages/numba/compiler.py:751: NumbaDeprecationWarning: \u001b[1m\n",
      "Fall-back from the nopython compilation path to the object mode compilation path has been detected, this is deprecated behaviour.\n",
      "\n",
      "For more information visit http://numba.pydata.org/numba-doc/latest/reference/deprecation.html#deprecation-of-object-mode-fall-back-behaviour-when-using-jit\n",
      "\u001b[1m\n",
      "File \"surfdist/utils.py\", line 5:\u001b[0m\n",
      "\u001b[1m@numba.jit(parallel=True)\n",
      "\u001b[1mdef surf_keep_cortex(surf, cortex):\n",
      "\u001b[0m\u001b[1m^\u001b[0m\u001b[0m\n",
      "\u001b[0m\n",
      "  warnings.warn(errors.NumbaDeprecationWarning(msg, self.func_ir.loc))\n",
      "/Users/medaglialab/Documents/GitHub/surfdist/surfdist/utils.py:30: NumbaWarning: \u001b[1m\n",
      "Compilation is falling back to object mode WITH looplifting enabled because Function \"triangles_keep_cortex\" failed type inference due to: \u001b[1m\u001b[1mnon-precise type pyobject\u001b[0m\n",
      "\u001b[0m\u001b[1m[1] During: typing of argument at /Users/medaglialab/Documents/GitHub/surfdist/surfdist/utils.py (37)\u001b[0m\n",
      "\u001b[1m\n",
      "File \"surfdist/utils.py\", line 37:\u001b[0m\n",
      "\u001b[1mdef triangles_keep_cortex(triangles, cortex):\n",
      "    <source elided>\n",
      "    # for or each face/triangle keep only those that only contain nodes within the list of cortex nodes\n",
      "\u001b[1m    input_shape = triangles.shape\n",
      "\u001b[0m    \u001b[1m^\u001b[0m\u001b[0m\n",
      "\u001b[0m\n",
      "  @numba.jit(parallel=True)\n",
      "/opt/anaconda3/lib/python3.7/site-packages/numba/compiler.py:742: NumbaWarning: \u001b[1mFunction \"triangles_keep_cortex\" was compiled in object mode without forceobj=True.\n",
      "\u001b[1m\n",
      "File \"surfdist/utils.py\", line 31:\u001b[0m\n",
      "\u001b[1m@numba.jit(parallel=True)\n",
      "\u001b[1mdef triangles_keep_cortex(triangles, cortex):\n",
      "\u001b[0m\u001b[1m^\u001b[0m\u001b[0m\n",
      "\u001b[0m\n",
      "  self.func_ir.loc))\n",
      "/opt/anaconda3/lib/python3.7/site-packages/numba/compiler.py:751: NumbaDeprecationWarning: \u001b[1m\n",
      "Fall-back from the nopython compilation path to the object mode compilation path has been detected, this is deprecated behaviour.\n",
      "\n",
      "For more information visit http://numba.pydata.org/numba-doc/latest/reference/deprecation.html#deprecation-of-object-mode-fall-back-behaviour-when-using-jit\n",
      "\u001b[1m\n",
      "File \"surfdist/utils.py\", line 31:\u001b[0m\n",
      "\u001b[1m@numba.jit(parallel=True)\n",
      "\u001b[1mdef triangles_keep_cortex(triangles, cortex):\n",
      "\u001b[0m\u001b[1m^\u001b[0m\u001b[0m\n",
      "\u001b[0m\n",
      "  warnings.warn(errors.NumbaDeprecationWarning(msg, self.func_ir.loc))\n",
      "/Users/medaglialab/Documents/GitHub/surfdist/surfdist/utils.py:48: NumbaWarning: \u001b[1m\n",
      "Compilation is falling back to object mode WITH looplifting enabled because Function \"translate_src\" failed type inference due to: \u001b[1m\u001b[1mUse of unsupported NumPy function 'numpy.in1d' or unsupported use of the function.\n",
      "\u001b[1m\n",
      "File \"surfdist/utils.py\", line 53:\u001b[0m\n",
      "\u001b[1mdef translate_src(src, cortex):\n",
      "    <source elided>\n",
      "    \"\"\"\n",
      "\u001b[1m    src_new = np.array(np.where(np.in1d(cortex, src))[0], dtype=np.int32)\n",
      "\u001b[0m    \u001b[1m^\u001b[0m\u001b[0m\n",
      "\u001b[0m\n",
      "\u001b[0m\u001b[1m[1] During: typing of get attribute at /Users/medaglialab/Documents/GitHub/surfdist/surfdist/utils.py (53)\u001b[0m\n",
      "\u001b[1m\n",
      "File \"surfdist/utils.py\", line 53:\u001b[0m\n",
      "\u001b[1mdef translate_src(src, cortex):\n",
      "    <source elided>\n",
      "    \"\"\"\n",
      "\u001b[1m    src_new = np.array(np.where(np.in1d(cortex, src))[0], dtype=np.int32)\n",
      "\u001b[0m    \u001b[1m^\u001b[0m\u001b[0m\n",
      "\u001b[0m\n",
      "  @numba.jit(parallel=True)\n",
      "/opt/anaconda3/lib/python3.7/site-packages/numba/compiler.py:742: NumbaWarning: \u001b[1mFunction \"translate_src\" was compiled in object mode without forceobj=True.\n",
      "\u001b[1m\n",
      "File \"surfdist/utils.py\", line 49:\u001b[0m\n",
      "\u001b[1m@numba.jit(parallel=True)\n",
      "\u001b[1mdef translate_src(src, cortex):\n",
      "\u001b[0m\u001b[1m^\u001b[0m\u001b[0m\n",
      "\u001b[0m\n",
      "  self.func_ir.loc))\n",
      "/opt/anaconda3/lib/python3.7/site-packages/numba/compiler.py:751: NumbaDeprecationWarning: \u001b[1m\n",
      "Fall-back from the nopython compilation path to the object mode compilation path has been detected, this is deprecated behaviour.\n",
      "\n",
      "For more information visit http://numba.pydata.org/numba-doc/latest/reference/deprecation.html#deprecation-of-object-mode-fall-back-behaviour-when-using-jit\n",
      "\u001b[1m\n",
      "File \"surfdist/utils.py\", line 49:\u001b[0m\n",
      "\u001b[1m@numba.jit(parallel=True)\n",
      "\u001b[1mdef translate_src(src, cortex):\n",
      "\u001b[0m\u001b[1m^\u001b[0m\u001b[0m\n",
      "\u001b[0m\n",
      "  warnings.warn(errors.NumbaDeprecationWarning(msg, self.func_ir.loc))\n"
     ]
    }
   ],
   "source": [
    "dist = sd.analysis.dist_calc(surf, cort, source_nodes)"
   ]
  },
  {
   "cell_type": "code",
   "execution_count": 5,
   "metadata": {},
   "outputs": [
    {
     "data": {
      "text/plain": [
       "array([52.17030005, 51.70970928, 52.65622176, ..., 39.55994705,\n",
       "       40.10551362, 42.28295865])"
      ]
     },
     "execution_count": 5,
     "metadata": {},
     "output_type": "execute_result"
    }
   ],
   "source": [
    "dist"
   ]
  },
  {
   "cell_type": "code",
   "execution_count": 6,
   "metadata": {},
   "outputs": [
    {
     "data": {
      "text/plain": [
       "(array([68601., 29910., 18714., 14352.,  9937.,  7539.,  5698.,  4320.,\n",
       "         2681.,   841.]),\n",
       " array([ 0.        ,  8.47332017, 16.94664034, 25.41996051, 33.89328068,\n",
       "        42.36660085, 50.83992102, 59.31324119, 67.78656136, 76.25988153,\n",
       "        84.7332017 ]),\n",
       " <a list of 10 Patch objects>)"
      ]
     },
     "execution_count": 6,
     "metadata": {},
     "output_type": "execute_result"
    },
    {
     "data": {
      "image/png": "[encoded data removed]",
      "text/plain": [
       "<Figure size 432x288 with 1 Axes>"
      ]
     },
     "metadata": {
      "needs_background": "light"
     },
     "output_type": "display_data"
    }
   ],
   "source": [
    "plt.hist(dist)"
   ]
  },
  {
   "cell_type": "code",
   "execution_count": null,
   "metadata": {},
   "outputs": [],
   "source": []
  },
  {
   "cell_type": "markdown",
   "metadata": {},
   "source": [
    "# Calculate distance matrix from list of nodes"
   ]
  },
  {
   "cell_type": "code",
   "execution_count": 7,
   "metadata": {},
   "outputs": [],
   "source": [
    "\n",
    "surf = nib.freesurfer.read_geometry(os.path.join(base_dir, 'Freesurfer_subjects/DP5.SC.1.001/surf/lh.pial'))\n",
    "cortex = np.sort(nib.freesurfer.read_label(os.path.join(base_dir, 'Freesurfer_subjects/DP5.SC.1.001/label/lh.cortex.label')))\n",
    "sulc=nib.freesurfer.read_morph_data(os.path.join(base_dir, 'Freesurfer_subjects/DP5.SC.1.001/surf/lh.sulc'))\n",
    "\n",
    "#annot_input = '/Users/medaglialab/Desktop/geodesic_distance/TNI009_DP5001/lh_parc_result.annot'\n",
    "#label_name = '17Networks_14'\n",
    "labels = '/Users/medaglialab/Desktop/geodesic_distance/TNI009_DP5001/lh_parc_result.annot'"
   ]
  },
  {
   "cell_type": "code",
   "execution_count": 8,
   "metadata": {},
   "outputs": [
    {
     "name": "stdout",
     "output_type": "stream",
     "text": [
      "# of regions: 36\n"
     ]
    },
    {
     "ename": "ValueError",
     "evalue": "b'NONE' is not in list",
     "output_type": "error",
     "traceback": [
      "\u001b[0;31m---------------------------------------------------------------------------\u001b[0m",
      "\u001b[0;31mValueError\u001b[0m                                Traceback (most recent call last)",
      "\u001b[0;32m<ipython-input-8-c0b3972e1178>\u001b[0m in \u001b[0;36m<module>\u001b[0;34m\u001b[0m\n\u001b[0;32m----> 1\u001b[0;31m \u001b[0mdist\u001b[0m \u001b[0;34m=\u001b[0m \u001b[0msd\u001b[0m\u001b[0;34m.\u001b[0m\u001b[0manalysis\u001b[0m\u001b[0;34m.\u001b[0m\u001b[0mdist_calc_matrix\u001b[0m\u001b[0;34m(\u001b[0m\u001b[0msurf\u001b[0m\u001b[0;34m,\u001b[0m \u001b[0mcortex\u001b[0m\u001b[0;34m,\u001b[0m \u001b[0mlabels\u001b[0m\u001b[0;34m)\u001b[0m\u001b[0;34m\u001b[0m\u001b[0;34m\u001b[0m\u001b[0m\n\u001b[0m",
      "\u001b[0;32m~/Documents/GitHub/surfdist/surfdist/analysis.py\u001b[0m in \u001b[0;36mdist_calc_matrix\u001b[0;34m(surf, cortex, labels, exceptions, verbose)\u001b[0m\n\u001b[1;32m     67\u001b[0m     \u001b[0mdist_roi\u001b[0m \u001b[0;34m=\u001b[0m \u001b[0;34m[\u001b[0m\u001b[0;34m]\u001b[0m\u001b[0;34m\u001b[0m\u001b[0;34m\u001b[0m\u001b[0m\n\u001b[1;32m     68\u001b[0m     \u001b[0;32mfor\u001b[0m \u001b[0mroi\u001b[0m \u001b[0;32min\u001b[0m \u001b[0mrois\u001b[0m\u001b[0;34m:\u001b[0m\u001b[0;34m\u001b[0m\u001b[0;34m\u001b[0m\u001b[0m\n\u001b[0;32m---> 69\u001b[0;31m         \u001b[0msource_nodes\u001b[0m \u001b[0;34m=\u001b[0m \u001b[0msd\u001b[0m\u001b[0;34m.\u001b[0m\u001b[0mload\u001b[0m\u001b[0;34m.\u001b[0m\u001b[0mload_freesurfer_label\u001b[0m\u001b[0;34m(\u001b[0m\u001b[0mlabels\u001b[0m\u001b[0;34m,\u001b[0m \u001b[0mroi\u001b[0m\u001b[0;34m)\u001b[0m\u001b[0;34m\u001b[0m\u001b[0;34m\u001b[0m\u001b[0m\n\u001b[0m\u001b[1;32m     70\u001b[0m         \u001b[0mtranslated_source_nodes\u001b[0m \u001b[0;34m=\u001b[0m \u001b[0mtranslate_src\u001b[0m\u001b[0;34m(\u001b[0m\u001b[0msource_nodes\u001b[0m\u001b[0;34m,\u001b[0m \u001b[0mcortex\u001b[0m\u001b[0;34m)\u001b[0m\u001b[0;34m\u001b[0m\u001b[0;34m\u001b[0m\u001b[0m\n\u001b[1;32m     71\u001b[0m         dist_roi.append(gdist.compute_gdist(cortex_vertices, cortex_triangles,\n",
      "\u001b[0;32m~/Documents/GitHub/surfdist/surfdist/load.py\u001b[0m in \u001b[0;36mload_freesurfer_label\u001b[0;34m(annot_input, label_name, cortex)\u001b[0m\n\u001b[1;32m     19\u001b[0m     \u001b[0mlabels\u001b[0m\u001b[0;34m,\u001b[0m \u001b[0mcolor_table\u001b[0m\u001b[0;34m,\u001b[0m \u001b[0mnames\u001b[0m \u001b[0;34m=\u001b[0m \u001b[0mnib\u001b[0m\u001b[0;34m.\u001b[0m\u001b[0mfreesurfer\u001b[0m\u001b[0;34m.\u001b[0m\u001b[0mread_annot\u001b[0m\u001b[0;34m(\u001b[0m\u001b[0mannot_input\u001b[0m\u001b[0;34m)\u001b[0m\u001b[0;34m\u001b[0m\u001b[0;34m\u001b[0m\u001b[0m\n\u001b[1;32m     20\u001b[0m     \u001b[0mnames\u001b[0m \u001b[0;34m=\u001b[0m \u001b[0;34m[\u001b[0m\u001b[0mi\u001b[0m\u001b[0;34m.\u001b[0m\u001b[0mdecode\u001b[0m\u001b[0;34m(\u001b[0m\u001b[0;34m'utf-8'\u001b[0m\u001b[0;34m)\u001b[0m \u001b[0;32mfor\u001b[0m \u001b[0mi\u001b[0m \u001b[0;32min\u001b[0m \u001b[0mnames\u001b[0m\u001b[0;34m]\u001b[0m\u001b[0;34m\u001b[0m\u001b[0;34m\u001b[0m\u001b[0m\n\u001b[0;32m---> 21\u001b[0;31m     \u001b[0mlabel_value\u001b[0m \u001b[0;34m=\u001b[0m \u001b[0mnames\u001b[0m\u001b[0;34m.\u001b[0m\u001b[0mindex\u001b[0m\u001b[0;34m(\u001b[0m\u001b[0mlabel_name\u001b[0m\u001b[0;34m)\u001b[0m\u001b[0;34m\u001b[0m\u001b[0;34m\u001b[0m\u001b[0m\n\u001b[0m\u001b[1;32m     22\u001b[0m     \u001b[0mlabel_nodes\u001b[0m \u001b[0;34m=\u001b[0m \u001b[0mnp\u001b[0m\u001b[0;34m.\u001b[0m\u001b[0marray\u001b[0m\u001b[0;34m(\u001b[0m\u001b[0mnp\u001b[0m\u001b[0;34m.\u001b[0m\u001b[0mwhere\u001b[0m\u001b[0;34m(\u001b[0m\u001b[0mnp\u001b[0m\u001b[0;34m.\u001b[0m\u001b[0min1d\u001b[0m\u001b[0;34m(\u001b[0m\u001b[0mlabels\u001b[0m\u001b[0;34m,\u001b[0m \u001b[0mlabel_value\u001b[0m\u001b[0;34m)\u001b[0m\u001b[0;34m)\u001b[0m\u001b[0;34m,\u001b[0m \u001b[0mdtype\u001b[0m\u001b[0;34m=\u001b[0m\u001b[0mnp\u001b[0m\u001b[0;34m.\u001b[0m\u001b[0mint32\u001b[0m\u001b[0;34m)\u001b[0m\u001b[0;34m\u001b[0m\u001b[0;34m\u001b[0m\u001b[0m\n\u001b[1;32m     23\u001b[0m \u001b[0;34m\u001b[0m\u001b[0m\n",
      "\u001b[0;31mValueError\u001b[0m: b'NONE' is not in list"
     ]
    }
   ],
   "source": [
    "dist = sd.analysis.dist_calc_matrix(surf, cortex, labels)"
   ]
  },
  {
   "cell_type": "code",
   "execution_count": null,
   "metadata": {},
   "outputs": [],
   "source": [
    "sd.load.load_freesurfer_label(labels, '17Networks_14')"
   ]
  },
  {
   "cell_type": "code",
   "execution_count": null,
   "metadata": {},
   "outputs": [],
   "source": []
  }
 ],
 "metadata": {
  "kernelspec": {
   "display_name": "Python 3",
   "language": "python",
   "name": "python3"
  },
  "language_info": {
   "codemirror_mode": {
    "name": "ipython",
    "version": 3
   },
   "file_extension": ".py",
   "mimetype": "text/x-python",
   "name": "python",
   "nbconvert_exporter": "python",
   "pygments_lexer": "ipython3",
   "version": "3.7.4"
  }
 },
 "nbformat": 4,
 "nbformat_minor": 2
}
